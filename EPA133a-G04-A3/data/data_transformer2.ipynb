{
 "cells": [
  {
   "metadata": {
    "ExecuteTime": {
     "end_time": "2025-03-17T14:11:20.044795Z",
     "start_time": "2025-03-17T14:11:20.024841Z"
    }
   },
   "cell_type": "code",
   "source": [
    "import pandas as pd\n",
    "import numpy as np\n",
    "import geopandas as gpd\n",
    "from shapely.geometry import Point, LineString\n",
    "from shapely.ops import unary_union\n",
    "import os"
   ],
   "id": "91feb21d52af8d0f",
   "outputs": [],
   "execution_count": 26
  },
  {
   "metadata": {
    "ExecuteTime": {
     "end_time": "2025-03-17T14:11:20.091590Z",
     "start_time": "2025-03-17T14:11:20.050306Z"
    }
   },
   "cell_type": "code",
   "source": [
    "# Load Data\n",
    "print(\"Working directory:\", os.getcwd())\n",
    "\n",
    "data_dir = \"../data/raw/\"\n",
    "bridges_path = os.path.join(data_dir, \"BMMS_overview.xlsx\")\n",
    "roads_path = os.path.join(data_dir, \"_roads3.csv\")"
   ],
   "id": "36c3731cabcb5984",
   "outputs": [
    {
     "name": "stdout",
     "output_type": "stream",
     "text": [
      "Working directory: C:\\Users\\audiv\\PycharmProjects\\AdvancedSimulation\\EPA133a-G04-A3\\data\n"
     ]
    }
   ],
   "execution_count": 27
  },
  {
   "metadata": {
    "ExecuteTime": {
     "end_time": "2025-03-17T14:11:29.111636Z",
     "start_time": "2025-03-17T14:11:20.299626Z"
    }
   },
   "cell_type": "code",
   "source": [
    "# Read data\n",
    "bridges = pd.read_excel(bridges_path)\n",
    "roads = pd.read_csv(roads_path)"
   ],
   "id": "f7016e6ca8b05e3c",
   "outputs": [],
   "execution_count": 28
  },
  {
   "metadata": {
    "ExecuteTime": {
     "end_time": "2025-03-17T14:11:30.927272Z",
     "start_time": "2025-03-17T14:11:29.121651Z"
    }
   },
   "cell_type": "code",
   "source": [
    "# Convert roads to a GeoDataFrame\n",
    "roads['geometry'] = roads.apply(lambda row: Point(row['lon'], row['lat']), axis=1)\n",
    "gdf_roads = gpd.GeoDataFrame(roads, geometry='geometry', crs=\"EPSG:4326\")"
   ],
   "id": "f46d12b39039d3c5",
   "outputs": [],
   "execution_count": 29
  },
  {
   "metadata": {
    "ExecuteTime": {
     "end_time": "2025-03-17T14:11:31.093237Z",
     "start_time": "2025-03-17T14:11:31.022483Z"
    }
   },
   "cell_type": "code",
   "source": [
    "# Filter only data for N1, N2, and side roads (N1xx, N2xx)\n",
    "gdf_roads = gdf_roads[gdf_roads['road'].str.match(r'^(N1|N2)\\d*$', na=False)]\n",
    "bridges = bridges[bridges['road'].str.match(r'^(N1|N2)\\d*$', na=False)]"
   ],
   "id": "c9203da7580b92a4",
   "outputs": [],
   "execution_count": 30
  },
  {
   "metadata": {
    "ExecuteTime": {
     "end_time": "2025-03-17T14:11:31.273533Z",
     "start_time": "2025-03-17T14:11:31.154300Z"
    }
   },
   "cell_type": "code",
   "source": [
    "# Create road lines\n",
    "gdf_roads_sorted = gdf_roads.sort_values(by=['road', 'chainage'])\n",
    "road_lines = gdf_roads_sorted.groupby('road')['geometry'].apply(lambda x: LineString(x.tolist()) if len(x) > 1 else None).dropna()\n",
    "road_lines = gpd.GeoDataFrame(road_lines, columns=['geometry'], crs=\"EPSG:4326\")"
   ],
   "id": "683868c5ea0157bf",
   "outputs": [],
   "execution_count": 31
  },
  {
   "metadata": {
    "ExecuteTime": {
     "end_time": "2025-03-17T14:11:31.416673Z",
     "start_time": "2025-03-17T14:11:31.338987Z"
    }
   },
   "cell_type": "code",
   "source": [
    "# Detect intersections between roads\n",
    "line_dict = {road: line for road, line in zip(road_lines.index, road_lines.geometry)}\n",
    "intersections = []\n",
    "for road1, line1 in line_dict.items():\n",
    "    for road2, line2 in line_dict.items():\n",
    "        if road1 != road2 and line1.intersects(line2):\n",
    "            intersection_points = line1.intersection(line2)\n",
    "            if intersection_points.geom_type == \"Point\":\n",
    "                intersections.append((road1, road2, intersection_points))\n",
    "            elif intersection_points.geom_type == \"MultiPoint\":\n",
    "                for point in intersection_points.geoms:\n",
    "                    intersections.append((road1, road2, point))"
   ],
   "id": "3568079e37ee946f",
   "outputs": [],
   "execution_count": 32
  },
  {
   "metadata": {
    "ExecuteTime": {
     "end_time": "2025-03-17T14:11:31.567020Z",
     "start_time": "2025-03-17T14:11:31.553784Z"
    }
   },
   "cell_type": "code",
   "source": [
    "# Convert intersections to a GeoDataFrame\n",
    "intersection_df = pd.DataFrame(intersections, columns=[\"road1\", \"road2\", \"geometry\"])\n",
    "intersection_gdf = gpd.GeoDataFrame(intersection_df, geometry='geometry', crs=\"EPSG:4326\")"
   ],
   "id": "d766a3cec5d053b6",
   "outputs": [],
   "execution_count": 33
  },
  {
   "metadata": {
    "ExecuteTime": {
     "end_time": "2025-03-17T14:11:31.585449Z",
     "start_time": "2025-03-17T14:11:31.574027Z"
    }
   },
   "cell_type": "code",
   "source": [
    "# Find nearest existing road points for each intersection\n",
    "def find_nearest_road_point(intersection, gdf_roads):\n",
    "    min_dist = float(\"inf\")\n",
    "    nearest_idx = None\n",
    "    for idx, row in gdf_roads.iterrows():\n",
    "        dist = intersection.distance(row.geometry)\n",
    "        if dist < min_dist:\n",
    "            min_dist = dist\n",
    "            nearest_idx = idx\n",
    "    return nearest_idx"
   ],
   "id": "65f2ed1885b67c4d",
   "outputs": [],
   "execution_count": 34
  },
  {
   "metadata": {
    "ExecuteTime": {
     "end_time": "2025-03-17T14:11:45.721556Z",
     "start_time": "2025-03-17T14:11:31.646828Z"
    }
   },
   "cell_type": "code",
   "source": [
    "\n",
    "intersection_gdf['nearest_idx'] = intersection_gdf['geometry'].apply(lambda x: find_nearest_road_point(x, gdf_roads))\n"
   ],
   "id": "5461f750301d7c23",
   "outputs": [],
   "execution_count": 35
  },
  {
   "metadata": {
    "ExecuteTime": {
     "end_time": "2025-03-17T14:11:45.799281Z",
     "start_time": "2025-03-17T14:11:45.785788Z"
    }
   },
   "cell_type": "code",
   "source": [
    "# Assign 'intersection' model_type to nearest points\n",
    "gdf_roads.loc[intersection_gdf['nearest_idx'], 'model_type'] = 'intersection'\n",
    "gdf_roads['is_intersection'] = gdf_roads['model_type'] == 'intersection'"
   ],
   "id": "f60d4bd2d63a4111",
   "outputs": [],
   "execution_count": 36
  },
  {
   "metadata": {
    "ExecuteTime": {
     "end_time": "2025-03-17T14:11:46.059208Z",
     "start_time": "2025-03-17T14:11:45.865541Z"
    }
   },
   "cell_type": "code",
   "source": [
    "# Save the filtered roads and bridges for further processing\n",
    "data_direct = \"../data/\"\n",
    "gdf_roads.to_csv(os.path.join(data_direct, \"roads_test_filtered.csv\"), index=False)\n",
    "bridges.to_csv(os.path.join(data_direct, \"bridges_test_filtered.csv\"), index=False)"
   ],
   "id": "bdd4ca1c5e6da2e3",
   "outputs": [],
   "execution_count": 37
  },
  {
   "metadata": {
    "ExecuteTime": {
     "end_time": "2025-03-17T14:11:46.241099Z",
     "start_time": "2025-03-17T14:11:46.129453Z"
    }
   },
   "cell_type": "code",
   "source": [
    "# Assuming you've already saved your filtered data:\n",
    "roads = pd.read_csv(\"../data/roads_test_filtered.csv\")    # e.g. columns: [road, chainage, lat, lon, type, name, is_intersection, ...]\n",
    "bridges = pd.read_csv(\"../data/bridges_test_filtered.csv\") # e.g. columns: [road, km (chainage), lat, lon, type, name, condition, length, ...]"
   ],
   "id": "19ba9d580cf2c4be",
   "outputs": [],
   "execution_count": 38
  },
  {
   "metadata": {},
   "cell_type": "code",
   "source": [
    "# 2.1 Rename chainage column if needed\n",
    "# roads may already have a 'chainage' column, so no change is required.\n",
    "# If your chainage column is named differently (e.g. \"km\"), rename it:\n",
    "# roads.rename(columns={'km': 'chainage'}, inplace=True)\n",
    "\n",
    "# 2.2 Create a new DataFrame with the columns you need\n",
    "roads_df = pd.DataFrame()\n",
    "roads_df['road'] = roads['road']\n",
    "roads_df['chainage'] = roads['chainage']\n",
    "roads_df['lat'] = roads['lat']\n",
    "roads_df['lon'] = roads['lon']\n",
    "roads_df['name'] = roads['name']\n",
    "\n",
    "# We'll set 'condition' to NaN for roads (since it usually applies to bridges)\n",
    "roads_df['condition'] = np.nan\n",
    "\n",
    "# We'll leave 'length' at 0 or NaN for now—unless you have a specific way\n",
    "# to calculate length for road segments:\n",
    "roads_df['length'] = 0\n",
    "\n",
    "# 2.3 Determine model_type for roads\n",
    "#    - If is_intersection == True, then 'intersection'\n",
    "#    - Otherwise, default to 'link'\n",
    "roads_df['model_type'] = np.where(\n",
    "    roads['is_intersection'] == True,\n",
    "    'intersection',\n",
    "    'link'\n",
    ")\n"
   ],
   "id": "348b0fd71fe59cbd",
   "outputs": [],
   "execution_count": 39
  },
  {
   "metadata": {
    "ExecuteTime": {
     "end_time": "2025-03-17T14:11:46.413915Z",
     "start_time": "2025-03-17T14:11:46.392261Z"
    }
   },
   "cell_type": "code",
   "source": [
    "bridges_df = pd.DataFrame()\n",
    "bridges_df['road'] = bridges['road']\n",
    "\n",
    "# If your bridges have a column called 'km' for chainage, rename it:\n",
    "# bridges.rename(columns={'km': 'chainage'}, inplace=True)\n",
    "bridges_df['chainage'] = bridges['chainage']  # or 'chainage' if already named that\n",
    "\n",
    "bridges_df['lat'] = bridges['lat']\n",
    "bridges_df['lon'] = bridges['lon']\n",
    "bridges_df['name'] = bridges['name']\n",
    "bridges_df['condition'] = bridges['condition']\n",
    "bridges_df['length'] = bridges['length']  # from the bridges data\n",
    "bridges_df['model_type'] = 'bridge'\n"
   ],
   "id": "1367e0faf969482c",
   "outputs": [],
   "execution_count": 40
  },
  {
   "metadata": {
    "ExecuteTime": {
     "end_time": "2025-03-17T14:11:46.495239Z",
     "start_time": "2025-03-17T14:11:46.481027Z"
    }
   },
   "cell_type": "code",
   "source": "df_combined = pd.concat([roads_df, bridges_df], ignore_index=True)\n",
   "id": "976851456828c0dc",
   "outputs": [],
   "execution_count": 41
  },
  {
   "metadata": {
    "ExecuteTime": {
     "end_time": "2025-03-17T14:11:46.640852Z",
     "start_time": "2025-03-17T14:11:46.581024Z"
    }
   },
   "cell_type": "code",
   "source": [
    "def label_sourcesink(group):\n",
    "    min_chain = group['chainage'].min()\n",
    "    max_chain = group['chainage'].max()\n",
    "\n",
    "    # Mark rows that match min or max chainage\n",
    "    mask_min = (group['chainage'] == min_chain)\n",
    "    mask_max = (group['chainage'] == max_chain)\n",
    "\n",
    "    group.loc[mask_min, 'model_type'] = 'sourcesink'\n",
    "    group.loc[mask_max, 'model_type'] = 'sourcesink'\n",
    "\n",
    "    return group\n",
    "\n",
    "df_combined = df_combined.groupby('road', group_keys=False).apply(label_sourcesink)\n"
   ],
   "id": "124a7609332a1452",
   "outputs": [],
   "execution_count": 42
  },
  {
   "metadata": {
    "ExecuteTime": {
     "end_time": "2025-03-17T14:11:46.734212Z",
     "start_time": "2025-03-17T14:11:46.715833Z"
    }
   },
   "cell_type": "code",
   "source": "df_combined = df_combined.sort_values(by=['road', 'chainage']).reset_index(drop=True)\n",
   "id": "f19608560e757bb5",
   "outputs": [],
   "execution_count": 43
  },
  {
   "metadata": {
    "ExecuteTime": {
     "end_time": "2025-03-17T14:11:46.821086Z",
     "start_time": "2025-03-17T14:11:46.810745Z"
    }
   },
   "cell_type": "code",
   "source": [
    "start_id = 1000000\n",
    "df_combined['id'] = range(start_id, start_id + len(df_combined))\n"
   ],
   "id": "bcecfcce497b0473",
   "outputs": [],
   "execution_count": 44
  },
  {
   "metadata": {
    "ExecuteTime": {
     "end_time": "2025-03-17T14:11:46.906973Z",
     "start_time": "2025-03-17T14:11:46.888832Z"
    }
   },
   "cell_type": "code",
   "source": [
    "# 2. For each road, shift the chainage and compute the difference\n",
    "df_combined['prev_chainage'] = df_combined.groupby('road')['chainage'].shift(1)\n",
    "\n",
    "# 3. Calculate segment length as chainage - prev_chainage\n",
    "df_combined['length'] = df_combined['chainage'] - df_combined['prev_chainage']\n",
    "\n",
    "# 4. For the first row of each road (where prev_chainage is NaN), fill with 0\n",
    "df_combined['length'] = df_combined['length'].fillna(0)\n",
    "\n",
    "# 5. Drop the helper column if you like\n",
    "df_combined.drop(columns=['prev_chainage'], inplace=True)\n",
    "\n",
    "# Now df_combined['length'] contains the segment length in the same unit as chainage."
   ],
   "id": "33b29cb5a22322c2",
   "outputs": [],
   "execution_count": 45
  },
  {
   "metadata": {
    "ExecuteTime": {
     "end_time": "2025-03-17T14:11:46.986652Z",
     "start_time": "2025-03-17T14:11:46.970748Z"
    }
   },
   "cell_type": "code",
   "source": [
    "df_combined = df_combined[[\n",
    "    'road',\n",
    "    'id',\n",
    "    'model_type',\n",
    "    'condition',\n",
    "    'name',\n",
    "    'lat',\n",
    "    'lon',\n",
    "    'length'\n",
    "]]"
   ],
   "id": "37f599b2c980278",
   "outputs": [],
   "execution_count": 46
  },
  {
   "metadata": {
    "ExecuteTime": {
     "end_time": "2025-03-17T14:11:47.271131Z",
     "start_time": "2025-03-17T14:11:47.073981Z"
    }
   },
   "cell_type": "code",
   "source": [
    "display(df_combined.head(40))\n",
    "df_combined.to_csv(\"../data/test_n1_n2.csv\", index=False)\n"
   ],
   "id": "13dd44cd3120343b",
   "outputs": [
    {
     "data": {
      "text/plain": [
       "   road       id  model_type condition  \\\n",
       "0    N1  1000000  sourcesink       NaN   \n",
       "1    N1  1000001        link       NaN   \n",
       "2    N1  1000002        link       NaN   \n",
       "3    N1  1000003        link       NaN   \n",
       "4    N1  1000004      bridge         A   \n",
       "5    N1  1000005        link       NaN   \n",
       "6    N1  1000006        link       NaN   \n",
       "7    N1  1000007        link       NaN   \n",
       "8    N1  1000008        link       NaN   \n",
       "9    N1  1000009        link       NaN   \n",
       "10   N1  1000010      bridge         A   \n",
       "11   N1  1000011        link       NaN   \n",
       "12   N1  1000012        link       NaN   \n",
       "13   N1  1000013        link       NaN   \n",
       "14   N1  1000014        link       NaN   \n",
       "15   N1  1000015        link       NaN   \n",
       "16   N1  1000016        link       NaN   \n",
       "17   N1  1000017        link       NaN   \n",
       "18   N1  1000018        link       NaN   \n",
       "19   N1  1000019        link       NaN   \n",
       "20   N1  1000020      bridge         A   \n",
       "21   N1  1000021      bridge         C   \n",
       "22   N1  1000022        link       NaN   \n",
       "23   N1  1000023        link       NaN   \n",
       "24   N1  1000024        link       NaN   \n",
       "25   N1  1000025        link       NaN   \n",
       "26   N1  1000026        link       NaN   \n",
       "27   N1  1000027      bridge         B   \n",
       "28   N1  1000028      bridge         A   \n",
       "29   N1  1000029        link       NaN   \n",
       "30   N1  1000030      bridge         A   \n",
       "31   N1  1000031      bridge         A   \n",
       "32   N1  1000032        link       NaN   \n",
       "33   N1  1000033        link       NaN   \n",
       "34   N1  1000034        link       NaN   \n",
       "35   N1  1000035        link       NaN   \n",
       "36   N1  1000036      bridge         B   \n",
       "37   N1  1000037        link       NaN   \n",
       "38   N1  1000038      bridge         A   \n",
       "39   N1  1000039      bridge         A   \n",
       "\n",
       "                                                 name        lat        lon  \\\n",
       "0   Start of Road  after Jatrabari Flyover infront...  23.706028  90.443333   \n",
       "1                                         Box Culvert  23.702917  90.450417   \n",
       "2                             Intersection with Z1101  23.702778  90.450472   \n",
       "3                                     Km post missing  23.702139  90.451972   \n",
       "4                                                   .  23.698739  90.458861   \n",
       "5                                     Km post missing  23.697889  90.460583   \n",
       "6                                         Box culvert  23.697361  90.461667   \n",
       "7                                     Km post missing  23.693833  90.469138   \n",
       "8                                     Km post missing  23.693611  90.478777   \n",
       "9                           Road to Narayanganj(R111)  23.693805  90.480527   \n",
       "10                                                  .  23.694664  90.487775   \n",
       "11                                    Km post missing  23.694750  90.488500   \n",
       "12                                    Km post missing  23.695916  90.498194   \n",
       "13                                    Km post missing  23.697333  90.507750   \n",
       "14           R110,Left to Demra, Right to Narayanganj  23.697916  90.509278   \n",
       "15                                    Km post missing  23.702056  90.515722   \n",
       "16                                     Kachpur bridge  23.702111  90.515778   \n",
       "17                                         Bridge end  23.704583  90.518833   \n",
       "18                    Chittagong 251 km,Comilla 84 km  23.705028  90.519333   \n",
       "19                                Road to Sylhet (N2)  23.706083  90.521527   \n",
       "20                                  Kanch pur Bridge.  23.705060  90.523214   \n",
       "21                          KANCHPUR PC GIRDER BRIDGE  23.705060  90.523214   \n",
       "22                                    Km post missing  23.702528  90.527388   \n",
       "23                                        Box culvert  23.701528  90.528194   \n",
       "24                                        Box culvert  23.699861  90.530722   \n",
       "25                                        Box culvert  23.697416  90.533777   \n",
       "26                                    Km post missing  23.696639  90.534805   \n",
       "27                               KATCHPUR BOX CULVERT  23.696400  90.535099   \n",
       "28                                   NOYAPARA CULVERT  23.694391  90.537574   \n",
       "29                                        Box culvert  23.694361  90.537611   \n",
       "30                                     ADUPUR CULVERT  23.694302  90.537707   \n",
       "31                        NAYABARI KASPUR BOX CULVERT  23.692360  90.540918   \n",
       "32                                        Box culvert  23.692277  90.541055   \n",
       "33                    Chittagong 248 km,Comilla 81 km  23.691805  90.542611   \n",
       "34                                       Bridge start  23.691111  90.544889   \n",
       "35                                         Bridge end  23.691055  90.545139   \n",
       "36                               NAYABARI BOX CULVERT  23.690912  90.545462   \n",
       "37    Right to Syedpur (R113) left to Joydebpur N105)  23.690416  90.546583   \n",
       "38                              KHAS PARA BOX CULVERT  23.688412  90.548559   \n",
       "39                              DAWAN BAG BOX CULVERT  23.688320  90.548650   \n",
       "\n",
       "    length  \n",
       "0    0.000  \n",
       "1    0.814  \n",
       "2    0.008  \n",
       "3    0.178  \n",
       "4    0.800  \n",
       "5    0.200  \n",
       "6    0.130  \n",
       "7    0.870  \n",
       "8    1.000  \n",
       "9    0.175  \n",
       "10   0.750  \n",
       "11   0.075  \n",
       "12   1.000  \n",
       "13   1.000  \n",
       "14   0.181  \n",
       "15   0.819  \n",
       "16   0.011  \n",
       "17   0.418  \n",
       "18   0.074  \n",
       "19   0.260  \n",
       "20   0.213  \n",
       "21   0.000  \n",
       "22   0.527  \n",
       "23   0.112  \n",
       "24   0.348  \n",
       "25   0.414  \n",
       "26   0.126  \n",
       "27   0.040  \n",
       "28   0.337  \n",
       "29   0.005  \n",
       "30   0.012  \n",
       "31   0.399  \n",
       "32   0.017  \n",
       "33   0.184  \n",
       "34   0.248  \n",
       "35   0.026  \n",
       "36   0.037  \n",
       "37   0.128  \n",
       "38   0.303  \n",
       "39   0.014  "
      ],
      "text/html": [
       "<div>\n",
       "<style scoped>\n",
       "    .dataframe tbody tr th:only-of-type {\n",
       "        vertical-align: middle;\n",
       "    }\n",
       "\n",
       "    .dataframe tbody tr th {\n",
       "        vertical-align: top;\n",
       "    }\n",
       "\n",
       "    .dataframe thead th {\n",
       "        text-align: right;\n",
       "    }\n",
       "</style>\n",
       "<table border=\"1\" class=\"dataframe\">\n",
       "  <thead>\n",
       "    <tr style=\"text-align: right;\">\n",
       "      <th></th>\n",
       "      <th>road</th>\n",
       "      <th>id</th>\n",
       "      <th>model_type</th>\n",
       "      <th>condition</th>\n",
       "      <th>name</th>\n",
       "      <th>lat</th>\n",
       "      <th>lon</th>\n",
       "      <th>length</th>\n",
       "    </tr>\n",
       "  </thead>\n",
       "  <tbody>\n",
       "    <tr>\n",
       "      <th>0</th>\n",
       "      <td>N1</td>\n",
       "      <td>1000000</td>\n",
       "      <td>sourcesink</td>\n",
       "      <td>NaN</td>\n",
       "      <td>Start of Road  after Jatrabari Flyover infront...</td>\n",
       "      <td>23.706028</td>\n",
       "      <td>90.443333</td>\n",
       "      <td>0.000</td>\n",
       "    </tr>\n",
       "    <tr>\n",
       "      <th>1</th>\n",
       "      <td>N1</td>\n",
       "      <td>1000001</td>\n",
       "      <td>link</td>\n",
       "      <td>NaN</td>\n",
       "      <td>Box Culvert</td>\n",
       "      <td>23.702917</td>\n",
       "      <td>90.450417</td>\n",
       "      <td>0.814</td>\n",
       "    </tr>\n",
       "    <tr>\n",
       "      <th>2</th>\n",
       "      <td>N1</td>\n",
       "      <td>1000002</td>\n",
       "      <td>link</td>\n",
       "      <td>NaN</td>\n",
       "      <td>Intersection with Z1101</td>\n",
       "      <td>23.702778</td>\n",
       "      <td>90.450472</td>\n",
       "      <td>0.008</td>\n",
       "    </tr>\n",
       "    <tr>\n",
       "      <th>3</th>\n",
       "      <td>N1</td>\n",
       "      <td>1000003</td>\n",
       "      <td>link</td>\n",
       "      <td>NaN</td>\n",
       "      <td>Km post missing</td>\n",
       "      <td>23.702139</td>\n",
       "      <td>90.451972</td>\n",
       "      <td>0.178</td>\n",
       "    </tr>\n",
       "    <tr>\n",
       "      <th>4</th>\n",
       "      <td>N1</td>\n",
       "      <td>1000004</td>\n",
       "      <td>bridge</td>\n",
       "      <td>A</td>\n",
       "      <td>.</td>\n",
       "      <td>23.698739</td>\n",
       "      <td>90.458861</td>\n",
       "      <td>0.800</td>\n",
       "    </tr>\n",
       "    <tr>\n",
       "      <th>5</th>\n",
       "      <td>N1</td>\n",
       "      <td>1000005</td>\n",
       "      <td>link</td>\n",
       "      <td>NaN</td>\n",
       "      <td>Km post missing</td>\n",
       "      <td>23.697889</td>\n",
       "      <td>90.460583</td>\n",
       "      <td>0.200</td>\n",
       "    </tr>\n",
       "    <tr>\n",
       "      <th>6</th>\n",
       "      <td>N1</td>\n",
       "      <td>1000006</td>\n",
       "      <td>link</td>\n",
       "      <td>NaN</td>\n",
       "      <td>Box culvert</td>\n",
       "      <td>23.697361</td>\n",
       "      <td>90.461667</td>\n",
       "      <td>0.130</td>\n",
       "    </tr>\n",
       "    <tr>\n",
       "      <th>7</th>\n",
       "      <td>N1</td>\n",
       "      <td>1000007</td>\n",
       "      <td>link</td>\n",
       "      <td>NaN</td>\n",
       "      <td>Km post missing</td>\n",
       "      <td>23.693833</td>\n",
       "      <td>90.469138</td>\n",
       "      <td>0.870</td>\n",
       "    </tr>\n",
       "    <tr>\n",
       "      <th>8</th>\n",
       "      <td>N1</td>\n",
       "      <td>1000008</td>\n",
       "      <td>link</td>\n",
       "      <td>NaN</td>\n",
       "      <td>Km post missing</td>\n",
       "      <td>23.693611</td>\n",
       "      <td>90.478777</td>\n",
       "      <td>1.000</td>\n",
       "    </tr>\n",
       "    <tr>\n",
       "      <th>9</th>\n",
       "      <td>N1</td>\n",
       "      <td>1000009</td>\n",
       "      <td>link</td>\n",
       "      <td>NaN</td>\n",
       "      <td>Road to Narayanganj(R111)</td>\n",
       "      <td>23.693805</td>\n",
       "      <td>90.480527</td>\n",
       "      <td>0.175</td>\n",
       "    </tr>\n",
       "    <tr>\n",
       "      <th>10</th>\n",
       "      <td>N1</td>\n",
       "      <td>1000010</td>\n",
       "      <td>bridge</td>\n",
       "      <td>A</td>\n",
       "      <td>.</td>\n",
       "      <td>23.694664</td>\n",
       "      <td>90.487775</td>\n",
       "      <td>0.750</td>\n",
       "    </tr>\n",
       "    <tr>\n",
       "      <th>11</th>\n",
       "      <td>N1</td>\n",
       "      <td>1000011</td>\n",
       "      <td>link</td>\n",
       "      <td>NaN</td>\n",
       "      <td>Km post missing</td>\n",
       "      <td>23.694750</td>\n",
       "      <td>90.488500</td>\n",
       "      <td>0.075</td>\n",
       "    </tr>\n",
       "    <tr>\n",
       "      <th>12</th>\n",
       "      <td>N1</td>\n",
       "      <td>1000012</td>\n",
       "      <td>link</td>\n",
       "      <td>NaN</td>\n",
       "      <td>Km post missing</td>\n",
       "      <td>23.695916</td>\n",
       "      <td>90.498194</td>\n",
       "      <td>1.000</td>\n",
       "    </tr>\n",
       "    <tr>\n",
       "      <th>13</th>\n",
       "      <td>N1</td>\n",
       "      <td>1000013</td>\n",
       "      <td>link</td>\n",
       "      <td>NaN</td>\n",
       "      <td>Km post missing</td>\n",
       "      <td>23.697333</td>\n",
       "      <td>90.507750</td>\n",
       "      <td>1.000</td>\n",
       "    </tr>\n",
       "    <tr>\n",
       "      <th>14</th>\n",
       "      <td>N1</td>\n",
       "      <td>1000014</td>\n",
       "      <td>link</td>\n",
       "      <td>NaN</td>\n",
       "      <td>R110,Left to Demra, Right to Narayanganj</td>\n",
       "      <td>23.697916</td>\n",
       "      <td>90.509278</td>\n",
       "      <td>0.181</td>\n",
       "    </tr>\n",
       "    <tr>\n",
       "      <th>15</th>\n",
       "      <td>N1</td>\n",
       "      <td>1000015</td>\n",
       "      <td>link</td>\n",
       "      <td>NaN</td>\n",
       "      <td>Km post missing</td>\n",
       "      <td>23.702056</td>\n",
       "      <td>90.515722</td>\n",
       "      <td>0.819</td>\n",
       "    </tr>\n",
       "    <tr>\n",
       "      <th>16</th>\n",
       "      <td>N1</td>\n",
       "      <td>1000016</td>\n",
       "      <td>link</td>\n",
       "      <td>NaN</td>\n",
       "      <td>Kachpur bridge</td>\n",
       "      <td>23.702111</td>\n",
       "      <td>90.515778</td>\n",
       "      <td>0.011</td>\n",
       "    </tr>\n",
       "    <tr>\n",
       "      <th>17</th>\n",
       "      <td>N1</td>\n",
       "      <td>1000017</td>\n",
       "      <td>link</td>\n",
       "      <td>NaN</td>\n",
       "      <td>Bridge end</td>\n",
       "      <td>23.704583</td>\n",
       "      <td>90.518833</td>\n",
       "      <td>0.418</td>\n",
       "    </tr>\n",
       "    <tr>\n",
       "      <th>18</th>\n",
       "      <td>N1</td>\n",
       "      <td>1000018</td>\n",
       "      <td>link</td>\n",
       "      <td>NaN</td>\n",
       "      <td>Chittagong 251 km,Comilla 84 km</td>\n",
       "      <td>23.705028</td>\n",
       "      <td>90.519333</td>\n",
       "      <td>0.074</td>\n",
       "    </tr>\n",
       "    <tr>\n",
       "      <th>19</th>\n",
       "      <td>N1</td>\n",
       "      <td>1000019</td>\n",
       "      <td>link</td>\n",
       "      <td>NaN</td>\n",
       "      <td>Road to Sylhet (N2)</td>\n",
       "      <td>23.706083</td>\n",
       "      <td>90.521527</td>\n",
       "      <td>0.260</td>\n",
       "    </tr>\n",
       "    <tr>\n",
       "      <th>20</th>\n",
       "      <td>N1</td>\n",
       "      <td>1000020</td>\n",
       "      <td>bridge</td>\n",
       "      <td>A</td>\n",
       "      <td>Kanch pur Bridge.</td>\n",
       "      <td>23.705060</td>\n",
       "      <td>90.523214</td>\n",
       "      <td>0.213</td>\n",
       "    </tr>\n",
       "    <tr>\n",
       "      <th>21</th>\n",
       "      <td>N1</td>\n",
       "      <td>1000021</td>\n",
       "      <td>bridge</td>\n",
       "      <td>C</td>\n",
       "      <td>KANCHPUR PC GIRDER BRIDGE</td>\n",
       "      <td>23.705060</td>\n",
       "      <td>90.523214</td>\n",
       "      <td>0.000</td>\n",
       "    </tr>\n",
       "    <tr>\n",
       "      <th>22</th>\n",
       "      <td>N1</td>\n",
       "      <td>1000022</td>\n",
       "      <td>link</td>\n",
       "      <td>NaN</td>\n",
       "      <td>Km post missing</td>\n",
       "      <td>23.702528</td>\n",
       "      <td>90.527388</td>\n",
       "      <td>0.527</td>\n",
       "    </tr>\n",
       "    <tr>\n",
       "      <th>23</th>\n",
       "      <td>N1</td>\n",
       "      <td>1000023</td>\n",
       "      <td>link</td>\n",
       "      <td>NaN</td>\n",
       "      <td>Box culvert</td>\n",
       "      <td>23.701528</td>\n",
       "      <td>90.528194</td>\n",
       "      <td>0.112</td>\n",
       "    </tr>\n",
       "    <tr>\n",
       "      <th>24</th>\n",
       "      <td>N1</td>\n",
       "      <td>1000024</td>\n",
       "      <td>link</td>\n",
       "      <td>NaN</td>\n",
       "      <td>Box culvert</td>\n",
       "      <td>23.699861</td>\n",
       "      <td>90.530722</td>\n",
       "      <td>0.348</td>\n",
       "    </tr>\n",
       "    <tr>\n",
       "      <th>25</th>\n",
       "      <td>N1</td>\n",
       "      <td>1000025</td>\n",
       "      <td>link</td>\n",
       "      <td>NaN</td>\n",
       "      <td>Box culvert</td>\n",
       "      <td>23.697416</td>\n",
       "      <td>90.533777</td>\n",
       "      <td>0.414</td>\n",
       "    </tr>\n",
       "    <tr>\n",
       "      <th>26</th>\n",
       "      <td>N1</td>\n",
       "      <td>1000026</td>\n",
       "      <td>link</td>\n",
       "      <td>NaN</td>\n",
       "      <td>Km post missing</td>\n",
       "      <td>23.696639</td>\n",
       "      <td>90.534805</td>\n",
       "      <td>0.126</td>\n",
       "    </tr>\n",
       "    <tr>\n",
       "      <th>27</th>\n",
       "      <td>N1</td>\n",
       "      <td>1000027</td>\n",
       "      <td>bridge</td>\n",
       "      <td>B</td>\n",
       "      <td>KATCHPUR BOX CULVERT</td>\n",
       "      <td>23.696400</td>\n",
       "      <td>90.535099</td>\n",
       "      <td>0.040</td>\n",
       "    </tr>\n",
       "    <tr>\n",
       "      <th>28</th>\n",
       "      <td>N1</td>\n",
       "      <td>1000028</td>\n",
       "      <td>bridge</td>\n",
       "      <td>A</td>\n",
       "      <td>NOYAPARA CULVERT</td>\n",
       "      <td>23.694391</td>\n",
       "      <td>90.537574</td>\n",
       "      <td>0.337</td>\n",
       "    </tr>\n",
       "    <tr>\n",
       "      <th>29</th>\n",
       "      <td>N1</td>\n",
       "      <td>1000029</td>\n",
       "      <td>link</td>\n",
       "      <td>NaN</td>\n",
       "      <td>Box culvert</td>\n",
       "      <td>23.694361</td>\n",
       "      <td>90.537611</td>\n",
       "      <td>0.005</td>\n",
       "    </tr>\n",
       "    <tr>\n",
       "      <th>30</th>\n",
       "      <td>N1</td>\n",
       "      <td>1000030</td>\n",
       "      <td>bridge</td>\n",
       "      <td>A</td>\n",
       "      <td>ADUPUR CULVERT</td>\n",
       "      <td>23.694302</td>\n",
       "      <td>90.537707</td>\n",
       "      <td>0.012</td>\n",
       "    </tr>\n",
       "    <tr>\n",
       "      <th>31</th>\n",
       "      <td>N1</td>\n",
       "      <td>1000031</td>\n",
       "      <td>bridge</td>\n",
       "      <td>A</td>\n",
       "      <td>NAYABARI KASPUR BOX CULVERT</td>\n",
       "      <td>23.692360</td>\n",
       "      <td>90.540918</td>\n",
       "      <td>0.399</td>\n",
       "    </tr>\n",
       "    <tr>\n",
       "      <th>32</th>\n",
       "      <td>N1</td>\n",
       "      <td>1000032</td>\n",
       "      <td>link</td>\n",
       "      <td>NaN</td>\n",
       "      <td>Box culvert</td>\n",
       "      <td>23.692277</td>\n",
       "      <td>90.541055</td>\n",
       "      <td>0.017</td>\n",
       "    </tr>\n",
       "    <tr>\n",
       "      <th>33</th>\n",
       "      <td>N1</td>\n",
       "      <td>1000033</td>\n",
       "      <td>link</td>\n",
       "      <td>NaN</td>\n",
       "      <td>Chittagong 248 km,Comilla 81 km</td>\n",
       "      <td>23.691805</td>\n",
       "      <td>90.542611</td>\n",
       "      <td>0.184</td>\n",
       "    </tr>\n",
       "    <tr>\n",
       "      <th>34</th>\n",
       "      <td>N1</td>\n",
       "      <td>1000034</td>\n",
       "      <td>link</td>\n",
       "      <td>NaN</td>\n",
       "      <td>Bridge start</td>\n",
       "      <td>23.691111</td>\n",
       "      <td>90.544889</td>\n",
       "      <td>0.248</td>\n",
       "    </tr>\n",
       "    <tr>\n",
       "      <th>35</th>\n",
       "      <td>N1</td>\n",
       "      <td>1000035</td>\n",
       "      <td>link</td>\n",
       "      <td>NaN</td>\n",
       "      <td>Bridge end</td>\n",
       "      <td>23.691055</td>\n",
       "      <td>90.545139</td>\n",
       "      <td>0.026</td>\n",
       "    </tr>\n",
       "    <tr>\n",
       "      <th>36</th>\n",
       "      <td>N1</td>\n",
       "      <td>1000036</td>\n",
       "      <td>bridge</td>\n",
       "      <td>B</td>\n",
       "      <td>NAYABARI BOX CULVERT</td>\n",
       "      <td>23.690912</td>\n",
       "      <td>90.545462</td>\n",
       "      <td>0.037</td>\n",
       "    </tr>\n",
       "    <tr>\n",
       "      <th>37</th>\n",
       "      <td>N1</td>\n",
       "      <td>1000037</td>\n",
       "      <td>link</td>\n",
       "      <td>NaN</td>\n",
       "      <td>Right to Syedpur (R113) left to Joydebpur N105)</td>\n",
       "      <td>23.690416</td>\n",
       "      <td>90.546583</td>\n",
       "      <td>0.128</td>\n",
       "    </tr>\n",
       "    <tr>\n",
       "      <th>38</th>\n",
       "      <td>N1</td>\n",
       "      <td>1000038</td>\n",
       "      <td>bridge</td>\n",
       "      <td>A</td>\n",
       "      <td>KHAS PARA BOX CULVERT</td>\n",
       "      <td>23.688412</td>\n",
       "      <td>90.548559</td>\n",
       "      <td>0.303</td>\n",
       "    </tr>\n",
       "    <tr>\n",
       "      <th>39</th>\n",
       "      <td>N1</td>\n",
       "      <td>1000039</td>\n",
       "      <td>bridge</td>\n",
       "      <td>A</td>\n",
       "      <td>DAWAN BAG BOX CULVERT</td>\n",
       "      <td>23.688320</td>\n",
       "      <td>90.548650</td>\n",
       "      <td>0.014</td>\n",
       "    </tr>\n",
       "  </tbody>\n",
       "</table>\n",
       "</div>"
      ]
     },
     "metadata": {},
     "output_type": "display_data"
    }
   ],
   "execution_count": 47
  },
  {
   "metadata": {
    "ExecuteTime": {
     "end_time": "2025-03-17T14:11:48.136823Z",
     "start_time": "2025-03-17T14:11:47.424430Z"
    }
   },
   "cell_type": "code",
   "source": [
    "import pandas as pd\n",
    "import matplotlib.pyplot as plt\n",
    "\n",
    "df_combined = pd.read_csv(\"../data/test_n1_n2.csv\")\n",
    "\n",
    "colors = {\n",
    "    'bridge': 'yellow',\n",
    "    'link': 'blue',\n",
    "    'sourcesink': 'black',\n",
    "    'intersection': 'red'\n",
    "}\n",
    "\n",
    "markers = {\n",
    "    'bridge': 'x',\n",
    "    'link': 'o',\n",
    "    'sourcesink': 's',\n",
    "    'intersection': '*'\n",
    "}\n",
    "\n",
    "marker_sizes = {\n",
    "    'bridge': 60,\n",
    "    'link': 10,\n",
    "    'sourcesink': 20,\n",
    "    'intersection': 40\n",
    "}\n",
    "\n",
    "plt.figure(figsize=(10, 8))\n",
    "\n",
    "for model_type, color in colors.items():\n",
    "    subset = df_combined[df_combined['model_type'] == model_type]\n",
    "    plt.scatter(subset['lon'], subset['lat'], c=color, label=model_type, s=marker_sizes[model_type],\n",
    "                marker=markers[model_type])\n",
    "\n",
    "for road in df_combined['road'].unique():\n",
    "    first_point = df_combined[df_combined['road'] == road].iloc[0]\n",
    "    plt.text(first_point['lon'], first_point['lat'], road, fontsize=9, ha='right')\n",
    "\n",
    "plt.xlabel('Longitude')\n",
    "plt.ylabel('Latitude')\n",
    "plt.title('Road Network Plot (N1 & N2 Only)')\n",
    "plt.legend()\n",
    "plt.show()"
   ],
   "id": "9239a288e6b597ca",
   "outputs": [
    {
     "data": {
      "text/plain": [
       "<Figure size 1000x800 with 1 Axes>"
      ],
      "image/png": "[encoded data removed]"
     },
     "metadata": {},
     "output_type": "display_data"
    }
   ],
   "execution_count": 48
  },
  {
   "metadata": {
    "ExecuteTime": {
     "end_time": "2025-03-17T14:11:48.240626Z",
     "start_time": "2025-03-17T14:11:48.227437Z"
    }
   },
   "cell_type": "code",
   "source": "print(f\"Total intersections found: {len(intersection_gdf)}\")\n",
   "id": "47c20421b1898a7b",
   "outputs": [
    {
     "name": "stdout",
     "output_type": "stream",
     "text": [
      "Total intersections found: 26\n"
     ]
    }
   ],
   "execution_count": 49
  },
  {
   "metadata": {
    "ExecuteTime": {
     "end_time": "2025-03-17T14:11:48.329977Z",
     "start_time": "2025-03-17T14:11:48.318151Z"
    }
   },
   "cell_type": "code",
   "source": [
    "num_intersections = gdf_roads[gdf_roads['is_intersection']].shape[0]\n",
    "print(f\"Number of road points classified as intersections: {num_intersections}\")\n"
   ],
   "id": "f4fd664fce26d2b4",
   "outputs": [
    {
     "name": "stdout",
     "output_type": "stream",
     "text": [
      "Number of road points classified as intersections: 13\n"
     ]
    }
   ],
   "execution_count": 50
  }
 ],
 "metadata": {
  "kernelspec": {
   "display_name": "Python 3",
   "language": "python",
   "name": "python3"
  },
  "language_info": {
   "codemirror_mode": {
    "name": "ipython",
    "version": 2
   },
   "file_extension": ".py",
   "mimetype": "text/x-python",
   "name": "python",
   "nbconvert_exporter": "python",
   "pygments_lexer": "ipython2",
   "version": "2.7.6"
  }
 },
 "nbformat": 4,
 "nbformat_minor": 5
}
