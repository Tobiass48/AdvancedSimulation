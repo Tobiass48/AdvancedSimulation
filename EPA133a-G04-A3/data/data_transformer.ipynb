{
 "cells": [
  {
   "cell_type": "code",
   "id": "initial_id",
   "metadata": {
    "collapsed": true,
    "ExecuteTime": {
     "end_time": "2025-03-15T11:46:55.633982Z",
     "start_time": "2025-03-15T11:46:54.142223Z"
    }
   },
   "source": [
    "import pandas as pd\n",
    "import numpy as np"
   ],
   "outputs": [],
   "execution_count": 1
  },
  {
   "metadata": {
    "ExecuteTime": {
     "end_time": "2025-03-15T11:46:56.272327Z",
     "start_time": "2025-03-15T11:46:56.256090Z"
    }
   },
   "cell_type": "code",
   "source": [
    "import os\n",
    "print('Working directory:', os.getcwd())\n",
    "path = os.path.abspath('../data/raw/BMMS_overview.xlsx')\n",
    "print('Absolute path being used:', path)\n",
    "print('Exists?', os.path.exists(path))"
   ],
   "id": "833b3dac278019c",
   "outputs": [
    {
     "name": "stdout",
     "output_type": "stream",
     "text": [
      "Working directory: C:\\Users\\audiv\\PycharmProjects\\AdvancedSimulation\\EPA133a-G04-A3\\data\n",
      "Absolute path being used: C:\\Users\\audiv\\PycharmProjects\\AdvancedSimulation\\EPA133a-G04-A3\\data\\raw\\BMMS_overview.xlsx\n",
      "Exists? True\n"
     ]
    }
   ],
   "execution_count": 2
  },
  {
   "metadata": {
    "ExecuteTime": {
     "end_time": "2025-03-15T11:47:42.478099Z",
     "start_time": "2025-03-15T11:47:33.420928Z"
    }
   },
   "cell_type": "code",
   "source": [
    "bridges = pd.read_excel('../data/raw/BMMS_overview.xlsx')\n",
    "roads = pd.read_csv('../data/raw/_roads3.csv')"
   ],
   "id": "9de972a91293570d",
   "outputs": [],
   "execution_count": 5
  },
  {
   "metadata": {
    "ExecuteTime": {
     "end_time": "2025-03-15T11:48:03.264757Z",
     "start_time": "2025-03-15T11:48:03.250966Z"
    }
   },
   "cell_type": "code",
   "source": [
    "# check shape of dataframes\n",
    "print(bridges.shape)\n",
    "print(roads.shape)"
   ],
   "id": "6666bcc6ba30b1d0",
   "outputs": [
    {
     "name": "stdout",
     "output_type": "stream",
     "text": [
      "(20415, 20)\n",
      "(51348, 8)\n"
     ]
    }
   ],
   "execution_count": 6
  },
  {
   "metadata": {
    "ExecuteTime": {
     "end_time": "2025-03-15T12:04:36.381248Z",
     "start_time": "2025-03-15T12:04:34.740171Z"
    }
   },
   "cell_type": "code",
   "source": [
    "# filter only for N1,N2, and the side roads (N1xx, N2xx)\n",
    "roads = roads[roads['road'].str.match(r'^(N1|N2)\\d*$', na=False)]\n",
    "bridges = bridges[bridges['road'].str.match(r'^(N1|N2)\\d*$', na=False)]"
   ],
   "id": "996b5fa4f44a44f",
   "outputs": [],
   "execution_count": 7
  },
  {
   "metadata": {
    "ExecuteTime": {
     "end_time": "2025-03-15T12:05:05.759747Z",
     "start_time": "2025-03-15T12:05:03.893635Z"
    }
   },
   "cell_type": "code",
   "source": [
    "# approx intersections by detecting repeated chainage values\n",
    "roads['is_intersection'] = roads.duplicated(subset=['chainage'], keep=False)"
   ],
   "id": "ae9a9c2e1b383455",
   "outputs": [],
   "execution_count": 8
  },
  {
   "metadata": {
    "ExecuteTime": {
     "end_time": "2025-03-15T12:09:57.240467Z",
     "start_time": "2025-03-15T12:09:56.946809Z"
    }
   },
   "cell_type": "code",
   "source": [
    "# Mark intersections as a separate type\n",
    "roads.loc[roads['is_intersection'], 'model_type'] = 'intersection'"
   ],
   "id": "31586700a67284e",
   "outputs": [],
   "execution_count": 9
  },
  {
   "metadata": {
    "ExecuteTime": {
     "end_time": "2025-03-15T12:13:51.742253Z",
     "start_time": "2025-03-15T12:13:51.616007Z"
    }
   },
   "cell_type": "code",
   "source": [
    "# save the filtered roads and bridges for further processing\n",
    "roads.to_csv('../data/roads_n1_n2_filtered.csv', index=False)\n",
    "bridges.to_csv('../data/bridges_n1_n2_filtered.csv', index=False)"
   ],
   "id": "d151f1bf30e9d257",
   "outputs": [],
   "execution_count": 14
  },
  {
   "metadata": {},
   "cell_type": "code",
   "outputs": [],
   "execution_count": null,
   "source": [
    "# standardize bridge names (lowercase, remove spaces, hyphens, and special characters)\n",
    "\n",
    "#bridges['name_clean'] = bridges['name'].str.lower().str.replace(' ', '').str.replace('-', '').str.replace(',', '').str.replace('.', '')\n",
    "#bridges.loc[bridges['name_clean'] == '.', 'name_clean'] = 'unknown'\n",
    "\n",
    "# Remove duplicates from bridges based on both 'road_lrp' and 'chainage'\n",
    "\n",
    "#bridges['road_lrp'] = bridges['road'] + bridges['chainage'].astype(str)\n",
    "#bridges = bridges.drop_duplicates(subset=['road_lrp', 'chainage'], keep='first')\n",
    "\n",
    "# Remove duplicate roads based on 'road_lrp' to avoid redundancy\n",
    "\n",
    "# roads['road_lrp'] = roads['road'] + roads['lrp'].astype(str)\n",
    "# roads = roads.drop_duplicates(subset=['road_lrp'], keep='first')"
   ],
   "id": "2f3f7b0933773ee2"
  },
  {
   "metadata": {
    "ExecuteTime": {
     "end_time": "2025-03-15T12:15:48.089285Z",
     "start_time": "2025-03-15T12:15:48.009681Z"
    }
   },
   "cell_type": "code",
   "source": [
    "roads_filtered = pd.read_csv(\"../data/roads_n1_n2_filtered.csv\")\n",
    "\n",
    "print(roads_filtered.head())"
   ],
   "id": "ea54dd05565e4b2d",
   "outputs": [
    {
     "name": "stdout",
     "output_type": "stream",
     "text": [
      "  road  chainage     lrp        lat        lon  gap       type  \\\n",
      "0   N1     0.000    LRPS  23.706028  90.443333  NaN     Others   \n",
      "1   N1     0.814   LRPSa  23.702917  90.450417  NaN    Culvert   \n",
      "2   N1     0.822   LRPSb  23.702778  90.450472  NaN  CrossRoad   \n",
      "3   N1     1.000  LRP001  23.702139  90.451972  NaN     KmPost   \n",
      "4   N1     2.000  LRP002  23.697889  90.460583  NaN     KmPost   \n",
      "\n",
      "                                                name  is_intersection  \\\n",
      "0  Start of Road  after Jatrabari Flyover infront...             True   \n",
      "1                                        Box Culvert            False   \n",
      "2                            Intersection with Z1101             True   \n",
      "3                                    Km post missing             True   \n",
      "4                                    Km post missing             True   \n",
      "\n",
      "     model_type  \n",
      "0  intersection  \n",
      "1           NaN  \n",
      "2  intersection  \n",
      "3  intersection  \n",
      "4  intersection  \n"
     ]
    }
   ],
   "execution_count": 17
  },
  {
   "metadata": {
    "ExecuteTime": {
     "end_time": "2025-03-15T12:16:05.734631Z",
     "start_time": "2025-03-15T12:16:05.679780Z"
    }
   },
   "cell_type": "code",
   "source": [
    "bridges_filtered = pd.read_csv(\"../data/bridges_n1_n2_filtered.csv\")\n",
    "\n",
    "print(bridges_filtered.head())"
   ],
   "id": "c0f958d5e7dabeca",
   "outputs": [
    {
     "name": "stdout",
     "output_type": "stream",
     "text": [
      "  road      km              type  LRPName               name  length  \\\n",
      "0   N1   1.800       Box Culvert  LRP001a                  .   11.30   \n",
      "1   N1   4.925       Box Culvert  LRP004b                  .    6.60   \n",
      "2   N1   8.976  PC Girder Bridge  LRP008b  Kanch pur Bridge.  394.23   \n",
      "3   N1  10.880       Box Culvert  LRP010b   NOYAPARA CULVERT    6.30   \n",
      "4   N1  10.897       Box Culvert  LRP010c     ADUPUR CULVERT    6.30   \n",
      "\n",
      "  condition  structureNr                                           roadName  \\\n",
      "0         A       117861  Dhaka (Jatrabari)-Comilla (Mainamati)-Chittago...   \n",
      "1         A       117862  Dhaka (Jatrabari)-Comilla (Mainamati)-Chittago...   \n",
      "2         A       119889  Dhaka (Jatrabari)-Comilla (Mainamati)-Chittago...   \n",
      "3         A       112531  Dhaka (Jatrabari)-Comilla (Mainamati)-Chittago...   \n",
      "4         A       112532  Dhaka (Jatrabari)-Comilla (Mainamati)-Chittago...   \n",
      "\n",
      "   chainage  width  constructionYear  spans   zone circle     division  \\\n",
      "0     1.800   19.5            2005.0    2.0  Dhaka  Dhaka  Narayanganj   \n",
      "1     4.925   35.4            2006.0    1.0  Dhaka  Dhaka  Narayanganj   \n",
      "2     8.976    NaN               NaN    NaN  Dhaka  Dhaka  Narayanganj   \n",
      "3    10.880   12.2            1992.0    2.0  Dhaka  Dhaka  Narayanganj   \n",
      "4    10.897   12.2            1984.0    2.0  Dhaka  Dhaka  Narayanganj   \n",
      "\n",
      "    sub-division        lat        lon EstimatedLoc  \n",
      "0  Narayanganj-1  23.698739  90.458861  interpolate  \n",
      "1  Narayanganj-1  23.694664  90.487775  interpolate  \n",
      "2  Narayanganj-1  23.705060  90.523214  interpolate  \n",
      "3      Vitikandi  23.694391  90.537574  interpolate  \n",
      "4      Vitikandi  23.694302  90.537707  interpolate  \n"
     ]
    }
   ],
   "execution_count": 18
  },
  {
   "metadata": {},
   "cell_type": "code",
   "outputs": [],
   "execution_count": null,
   "source": "",
   "id": "575815882dbd7126"
  }
 ],
 "metadata": {
  "kernelspec": {
   "display_name": "Python 3",
   "language": "python",
   "name": "python3"
  },
  "language_info": {
   "codemirror_mode": {
    "name": "ipython",
    "version": 2
   },
   "file_extension": ".py",
   "mimetype": "text/x-python",
   "name": "python",
   "nbconvert_exporter": "python",
   "pygments_lexer": "ipython2",
   "version": "2.7.6"
  }
 },
 "nbformat": 4,
 "nbformat_minor": 5
}
