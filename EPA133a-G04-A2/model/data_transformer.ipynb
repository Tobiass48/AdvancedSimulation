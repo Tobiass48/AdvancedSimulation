{
 "cells": [
  {
   "cell_type": "code",
   "id": "initial_id",
   "metadata": {
    "collapsed": true,
    "ExecuteTime": {
     "end_time": "2025-02-28T09:38:42.585713Z",
     "start_time": "2025-02-28T09:38:41.872125Z"
    }
   },
   "source": "import pandas as pd",
   "outputs": [],
   "execution_count": 1
  },
  {
   "metadata": {
    "ExecuteTime": {
     "end_time": "2025-02-28T09:38:46.517721Z",
     "start_time": "2025-02-28T09:38:42.592726Z"
    }
   },
   "cell_type": "code",
   "source": [
    "bridges = pd.read_excel('../data/cleaned_data/infrastructure/BMMS_overview.xlsx')\n",
    "roads = pd.read_csv('../data/cleaned_data/infrastructure/_roads3.csv')"
   ],
   "id": "75f8ca888e296b5a",
   "outputs": [],
   "execution_count": 2
  },
  {
   "metadata": {
    "ExecuteTime": {
     "end_time": "2025-02-28T09:38:46.559421Z",
     "start_time": "2025-02-28T09:38:46.552196Z"
    }
   },
   "cell_type": "code",
   "source": [
    "roads.rename(columns={\n",
    "    \"road\": \"road\",          # Keep 'road' as it is\n",
    "    \"chainage\": \"id\",        # Correct: 'chainage' represents 'id'\n",
    "    \"lrp\": \"lrp\",            # Keep 'lrp' unchanged (unless it's actually 'model_type')\n",
    "    \"lat\": \"lat\",            # Keep 'lat' as it is\n",
    "    \"lon\": \"lon\",            # Keep 'lon' as it is\n",
    "    \"gap\": \"length\",         # Correct: 'gap' represents 'length'\n",
    "    \"type\": \"model_type\",    # Correct: 'type' represents 'model_type'\n",
    "    \"name\": \"name\"           # Keep 'name' as it is\n",
    "}, inplace=True)\n"
   ],
   "id": "7bea4af85808ac9",
   "outputs": [],
   "execution_count": 3
  },
  {
   "metadata": {
    "ExecuteTime": {
     "end_time": "2025-02-28T09:41:49.395594Z",
     "start_time": "2025-02-28T09:41:49.130586Z"
    }
   },
   "cell_type": "code",
   "source": "roads.to_csv(\"../data/cleaned_data/infrastructure/roads_for_model.csv\", index=False)",
   "id": "fce141aff225f4ca",
   "outputs": [],
   "execution_count": 6
  },
  {
   "metadata": {},
   "cell_type": "code",
   "outputs": [],
   "execution_count": null,
   "source": "",
   "id": "cfd3941666ce5fde"
  }
 ],
 "metadata": {
  "kernelspec": {
   "display_name": "Python 3",
   "language": "python",
   "name": "python3"
  },
  "language_info": {
   "codemirror_mode": {
    "name": "ipython",
    "version": 2
   },
   "file_extension": ".py",
   "mimetype": "text/x-python",
   "name": "python",
   "nbconvert_exporter": "python",
   "pygments_lexer": "ipython2",
   "version": "2.7.6"
  }
 },
 "nbformat": 4,
 "nbformat_minor": 5
}
